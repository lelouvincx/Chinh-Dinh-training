{
 "cells": [
  {
   "cell_type": "code",
   "execution_count": 2,
   "metadata": {},
   "outputs": [
    {
     "data": {
      "text/plain": [
       "True"
      ]
     },
     "execution_count": 2,
     "metadata": {},
     "output_type": "execute_result"
    }
   ],
   "source": [
    "from sqlalchemy import text\n",
    "from psql_connector import PsqlConnector\n",
    "\n",
    "from os import environ as env\n",
    "from dotenv import  load_dotenv\n",
    "load_dotenv(dotenv_path='../.env')"
   ]
  },
  {
   "cell_type": "code",
   "execution_count": 4,
   "metadata": {},
   "outputs": [],
   "source": [
    "# Init psql connector\n",
    "psql_params = {\n",
    "    \"host\": \"localhost\",\n",
    "    \"port\": env[\"POSTGRES_PORT\"],\n",
    "    \"user\": env[\"POSTGRES_USER\"],\n",
    "    \"password\": env[\"POSTGRES_PASSWORD\"],\n",
    "    \"database\": env[\"POSTGRES_DB\"],\n",
    "}\n",
    "\n",
    "# Setup psql connector\n",
    "psql_connector = PsqlConnector(psql_params)"
   ]
  },
  {
   "cell_type": "code",
   "execution_count": 6,
   "metadata": {},
   "outputs": [
    {
     "name": "stdout",
     "output_type": "stream",
     "text": [
      "['application', 'purchasing', 'sales', 'warehouse', 'public']\n"
     ]
    }
   ],
   "source": [
    "# Fetch schemas\n",
    "schemas = []\n",
    "with psql_connector.connect() as engine:\n",
    "    with engine.connect() as cursor:\n",
    "        sql_script = \"\"\"\n",
    "            SELECT schema_name\n",
    "            FROM information_schema.schemata;\n",
    "        \"\"\"\n",
    "        schemas = cursor.execute(text(sql_script)).fetchall()\n",
    "\n",
    "        # Remove system schemas\n",
    "        schemas = [\n",
    "            schema[0]\n",
    "            for schema in schemas\n",
    "            if schema[0]\n",
    "            not in [ \"pg_toast\", \"pg_temp_1\", \"pg_toast_temp_1\", \"pg_catalog\", \"information_schema\", ]\n",
    "        ]\n",
    "\n",
    "        # Remove schemas: data_load_simulation, integration, power_bi, reports, sequences\n",
    "        schemas = [\n",
    "            schema for schema in schemas if schema not in [ \"data_load_simulation\", \"integration\", \"power_bi\", \"reports\", \"sequences\", \"website\" ]\n",
    "        ]\n",
    "\n",
    "print(schemas)\n"
   ]
  },
  {
   "cell_type": "code",
   "execution_count": 15,
   "metadata": {},
   "outputs": [
    {
     "name": "stdout",
     "output_type": "stream",
     "text": [
      "{'int8', 'numeric', 'bool', 'varchar', 'date', 'int4', 'text', 'timestamp', 'bytea', 'bpchar'}\n"
     ]
    }
   ],
   "source": [
    "# Fetch attributes from schemas\n",
    "attributes = set()\n",
    "\n",
    "with psql_connector.connect() as engine:\n",
    "    with engine.connect() as cursor:\n",
    "        for schema in schemas:\n",
    "            sql_script = f\"\"\"\n",
    "                WITH rows AS (\n",
    "\t                SELECT  c.relname AS table_name,\n",
    "\t\t\t                a.attname AS attribute_name,\n",
    "\t\t\t                a.attnotnull AS is_attribute_null,\n",
    "\t\t\t                a.attnum AS attribute_num,\n",
    "\t\t\t                t.typname AS type_name\n",
    "\t                FROM    pg_catalog.pg_class c\n",
    "\t\t            JOIN    pg_catalog.pg_attribute a\n",
    "\t\t                ON  c.\"oid\" = a.attrelid AND a.attnum >= 0\n",
    "\t\t            JOIN    pg_catalog.pg_type t\n",
    "\t\t                ON  t.\"oid\" = a.atttypid\n",
    "\t\t            JOIN    pg_catalog.pg_namespace n\n",
    "\t\t                ON  c.relnamespace = n.\"oid\"\n",
    "\t                WHERE   n.nspname = '{schema}'\n",
    "\t\t                AND c.relkind = 'r'\n",
    "                ),\n",
    "                agg AS (\n",
    "\t                SELECT rows.table_name, json_agg(rows ORDER BY attribute_num) AS attrs\n",
    "\t                FROM rows\n",
    "\t                GROUP BY rows.table_name\n",
    "                )\n",
    "                SELECT json_object_agg(agg.table_name, agg.attrs)\n",
    "                FROM agg;\n",
    "            \"\"\"\n",
    "            fetch_result = cursor.execute(text(sql_script)).fetchone()[0]\n",
    "            # Loop through all keys in fetch_result\n",
    "            for key in fetch_result.keys():\n",
    "                table = fetch_result.get(key)\n",
    "                for attrs in table:\n",
    "                    # Add attrs.get(\"type_name\") into attributes\n",
    "                    if attrs.get(\"type_name\") not in attributes:\n",
    "                        attributes.add(attrs.get(\"type_name\"))\n",
    "\n",
    "print(attributes)"
   ]
  }
 ],
 "metadata": {
  "kernelspec": {
   "display_name": ".venv",
   "language": "python",
   "name": "python3"
  },
  "language_info": {
   "codemirror_mode": {
    "name": "ipython",
    "version": 3
   },
   "file_extension": ".py",
   "mimetype": "text/x-python",
   "name": "python",
   "nbconvert_exporter": "python",
   "pygments_lexer": "ipython3",
   "version": "3.11.4"
  },
  "orig_nbformat": 4
 },
 "nbformat": 4,
 "nbformat_minor": 2
}
